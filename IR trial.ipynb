{
 "cells": [
  {
   "cell_type": "code",
   "execution_count": 2,
   "id": "f18d4a93",
   "metadata": {},
   "outputs": [],
   "source": [
    "# For File Handling\n",
    "import csv\n",
    "import os\n",
    "\n",
    "# For Data\n",
    "import pandas as pd\n",
    "import numpy as np\n",
    "\n",
    "# For Processing\n",
    "import re\n",
    "import nltk\n",
    "import string\n",
    "\n",
    "# For Plotting\n",
    "%matplotlib inline\n",
    "import matplotlib.pyplot as plt\n",
    "import seaborn as sns\n",
    "\n",
    "# For Word Embeddings\n",
    "import gensim\n",
    "import gensim.downloader as gensim_api\n",
    "\n",
    "# For Deep Learning\n",
    "import tensorflow as tf\n",
    "from tensorflow.keras import Model, models, layers, preprocessing\n",
    "from tensorflow.keras.callbacks import EarlyStopping, ModelCheckpoint\n",
    "from tensorflow.keras.optimizers import Adam\n",
    "from tensorflow.keras import backend as K\n",
    "\n",
    "# Bert language model\n",
    "import transformers\n",
    "\n",
    "# For Model Visualisation\n",
    "import keras\n",
    "import pydotplus\n",
    "import pydot\n",
    "import graphviz\n",
    "from keras.utils.vis_utils import model_to_dot\n",
    "keras.utils.vis_utils.pydot = pydot\n",
    "\n",
    "# Miscellaneous \n",
    "import warnings\n",
    "warnings.filterwarnings('ignore')"
   ]
  },
  {
   "cell_type": "code",
   "execution_count": 3,
   "id": "d37e979b",
   "metadata": {},
   "outputs": [],
   "source": [
    "# Since tensorflow gpu is being used\n",
    "try:\n",
    "    gpus = tf.config.experimental.list_physical_devices('GPU')\n",
    "    for gpu in gpus:\n",
    "        tf.config.experimental.set_memory_growth(gpu, True)\n",
    "except:\n",
    "    pass"
   ]
  },
  {
   "cell_type": "code",
   "execution_count": 4,
   "id": "2fb583ba",
   "metadata": {},
   "outputs": [],
   "source": [
    "train_df= pd.read_json(\"/Users/saineymanga/Desktop/snli_1.0/snli_1.0_train.jsonl\", lines=True )\n",
    "val_df= pd.read_json(\"/Users/saineymanga/Desktop/snli_1.0/snli_1.0_dev.jsonl\", lines=True )\n",
    "test_df=  pd.read_json(\"/Users/saineymanga/Desktop/snli_1.0/snli_1.0_test.jsonl\", lines=True )"
   ]
  },
  {
   "cell_type": "code",
   "execution_count": 5,
   "id": "36e64de5",
   "metadata": {},
   "outputs": [],
   "source": [
    "train_df = train_df[train_df['gold_label'] != \"-\"]\n",
    "val_df= val_df[val_df['gold_label'] != \"-\"]\n",
    "test_df= test_df[test_df['gold_label'] != \"-\"]"
   ]
  },
  {
   "cell_type": "code",
   "execution_count": 79,
   "id": "ee4b3046",
   "metadata": {},
   "outputs": [
    {
     "data": {
      "text/plain": [
       "(549367, 10)"
      ]
     },
     "execution_count": 79,
     "metadata": {},
     "output_type": "execute_result"
    }
   ],
   "source": [
    "train_df.shape"
   ]
  },
  {
   "cell_type": "code",
   "execution_count": 6,
   "id": "f7d2000a",
   "metadata": {},
   "outputs": [
    {
     "data": {
      "text/html": [
       "<div>\n",
       "<style scoped>\n",
       "    .dataframe tbody tr th:only-of-type {\n",
       "        vertical-align: middle;\n",
       "    }\n",
       "\n",
       "    .dataframe tbody tr th {\n",
       "        vertical-align: top;\n",
       "    }\n",
       "\n",
       "    .dataframe thead th {\n",
       "        text-align: right;\n",
       "    }\n",
       "</style>\n",
       "<table border=\"1\" class=\"dataframe\">\n",
       "  <thead>\n",
       "    <tr style=\"text-align: right;\">\n",
       "      <th></th>\n",
       "      <th>sentence1</th>\n",
       "      <th>sentence2</th>\n",
       "      <th>gold_label</th>\n",
       "    </tr>\n",
       "  </thead>\n",
       "  <tbody>\n",
       "    <tr>\n",
       "      <th>0</th>\n",
       "      <td>A person on a horse jumps over a broken down a...</td>\n",
       "      <td>A person is training his horse for a competition.</td>\n",
       "      <td>neutral</td>\n",
       "    </tr>\n",
       "    <tr>\n",
       "      <th>1</th>\n",
       "      <td>A person on a horse jumps over a broken down a...</td>\n",
       "      <td>A person is at a diner, ordering an omelette.</td>\n",
       "      <td>contradiction</td>\n",
       "    </tr>\n",
       "    <tr>\n",
       "      <th>2</th>\n",
       "      <td>A person on a horse jumps over a broken down a...</td>\n",
       "      <td>A person is outdoors, on a horse.</td>\n",
       "      <td>entailment</td>\n",
       "    </tr>\n",
       "    <tr>\n",
       "      <th>3</th>\n",
       "      <td>Children smiling and waving at camera</td>\n",
       "      <td>They are smiling at their parents</td>\n",
       "      <td>neutral</td>\n",
       "    </tr>\n",
       "    <tr>\n",
       "      <th>4</th>\n",
       "      <td>Children smiling and waving at camera</td>\n",
       "      <td>There are children present</td>\n",
       "      <td>entailment</td>\n",
       "    </tr>\n",
       "    <tr>\n",
       "      <th>5</th>\n",
       "      <td>Children smiling and waving at camera</td>\n",
       "      <td>The kids are frowning</td>\n",
       "      <td>contradiction</td>\n",
       "    </tr>\n",
       "    <tr>\n",
       "      <th>6</th>\n",
       "      <td>A boy is jumping on skateboard in the middle o...</td>\n",
       "      <td>The boy skates down the sidewalk.</td>\n",
       "      <td>contradiction</td>\n",
       "    </tr>\n",
       "    <tr>\n",
       "      <th>7</th>\n",
       "      <td>A boy is jumping on skateboard in the middle o...</td>\n",
       "      <td>The boy does a skateboarding trick.</td>\n",
       "      <td>entailment</td>\n",
       "    </tr>\n",
       "    <tr>\n",
       "      <th>8</th>\n",
       "      <td>A boy is jumping on skateboard in the middle o...</td>\n",
       "      <td>The boy is wearing safety equipment.</td>\n",
       "      <td>neutral</td>\n",
       "    </tr>\n",
       "    <tr>\n",
       "      <th>9</th>\n",
       "      <td>An older man sits with his orange juice at a s...</td>\n",
       "      <td>An older man drinks his juice as he waits for ...</td>\n",
       "      <td>neutral</td>\n",
       "    </tr>\n",
       "  </tbody>\n",
       "</table>\n",
       "</div>"
      ],
      "text/plain": [
       "                                           sentence1  \\\n",
       "0  A person on a horse jumps over a broken down a...   \n",
       "1  A person on a horse jumps over a broken down a...   \n",
       "2  A person on a horse jumps over a broken down a...   \n",
       "3              Children smiling and waving at camera   \n",
       "4              Children smiling and waving at camera   \n",
       "5              Children smiling and waving at camera   \n",
       "6  A boy is jumping on skateboard in the middle o...   \n",
       "7  A boy is jumping on skateboard in the middle o...   \n",
       "8  A boy is jumping on skateboard in the middle o...   \n",
       "9  An older man sits with his orange juice at a s...   \n",
       "\n",
       "                                           sentence2     gold_label  \n",
       "0  A person is training his horse for a competition.        neutral  \n",
       "1      A person is at a diner, ordering an omelette.  contradiction  \n",
       "2                  A person is outdoors, on a horse.     entailment  \n",
       "3                  They are smiling at their parents        neutral  \n",
       "4                         There are children present     entailment  \n",
       "5                              The kids are frowning  contradiction  \n",
       "6                  The boy skates down the sidewalk.  contradiction  \n",
       "7                The boy does a skateboarding trick.     entailment  \n",
       "8               The boy is wearing safety equipment.        neutral  \n",
       "9  An older man drinks his juice as he waits for ...        neutral  "
      ]
     },
     "execution_count": 6,
     "metadata": {},
     "output_type": "execute_result"
    }
   ],
   "source": [
    "tr_df = train_df[[\"sentence1\",\"sentence2\",\"gold_label\"]]\n",
    "tr_df.head(10)"
   ]
  },
  {
   "cell_type": "code",
   "execution_count": 7,
   "id": "35dace5a",
   "metadata": {},
   "outputs": [
    {
     "data": {
      "text/html": [
       "<div>\n",
       "<style scoped>\n",
       "    .dataframe tbody tr th:only-of-type {\n",
       "        vertical-align: middle;\n",
       "    }\n",
       "\n",
       "    .dataframe tbody tr th {\n",
       "        vertical-align: top;\n",
       "    }\n",
       "\n",
       "    .dataframe thead th {\n",
       "        text-align: right;\n",
       "    }\n",
       "</style>\n",
       "<table border=\"1\" class=\"dataframe\">\n",
       "  <thead>\n",
       "    <tr style=\"text-align: right;\">\n",
       "      <th></th>\n",
       "      <th>sentence1</th>\n",
       "      <th>sentence2</th>\n",
       "      <th>gold_label</th>\n",
       "    </tr>\n",
       "  </thead>\n",
       "  <tbody>\n",
       "    <tr>\n",
       "      <th>0</th>\n",
       "      <td>Two women are embracing while holding to go pa...</td>\n",
       "      <td>The sisters are hugging goodbye while holding ...</td>\n",
       "      <td>neutral</td>\n",
       "    </tr>\n",
       "    <tr>\n",
       "      <th>1</th>\n",
       "      <td>Two women are embracing while holding to go pa...</td>\n",
       "      <td>Two woman are holding packages.</td>\n",
       "      <td>entailment</td>\n",
       "    </tr>\n",
       "    <tr>\n",
       "      <th>2</th>\n",
       "      <td>Two women are embracing while holding to go pa...</td>\n",
       "      <td>The men are fighting outside a deli.</td>\n",
       "      <td>contradiction</td>\n",
       "    </tr>\n",
       "    <tr>\n",
       "      <th>3</th>\n",
       "      <td>Two young children in blue jerseys, one with t...</td>\n",
       "      <td>Two kids in numbered jerseys wash their hands.</td>\n",
       "      <td>entailment</td>\n",
       "    </tr>\n",
       "    <tr>\n",
       "      <th>4</th>\n",
       "      <td>Two young children in blue jerseys, one with t...</td>\n",
       "      <td>Two kids at a ballgame wash their hands.</td>\n",
       "      <td>neutral</td>\n",
       "    </tr>\n",
       "    <tr>\n",
       "      <th>5</th>\n",
       "      <td>Two young children in blue jerseys, one with t...</td>\n",
       "      <td>Two kids in jackets walk to school.</td>\n",
       "      <td>contradiction</td>\n",
       "    </tr>\n",
       "    <tr>\n",
       "      <th>6</th>\n",
       "      <td>A man selling donuts to a customer during a wo...</td>\n",
       "      <td>A woman drinks her coffee in a small cafe.</td>\n",
       "      <td>contradiction</td>\n",
       "    </tr>\n",
       "    <tr>\n",
       "      <th>7</th>\n",
       "      <td>A man selling donuts to a customer during a wo...</td>\n",
       "      <td>A man selling donuts to a customer during a wo...</td>\n",
       "      <td>neutral</td>\n",
       "    </tr>\n",
       "    <tr>\n",
       "      <th>8</th>\n",
       "      <td>A man selling donuts to a customer during a wo...</td>\n",
       "      <td>A man selling donuts to a customer.</td>\n",
       "      <td>entailment</td>\n",
       "    </tr>\n",
       "    <tr>\n",
       "      <th>9</th>\n",
       "      <td>Two young boys of opposing teams play football...</td>\n",
       "      <td>boys play football</td>\n",
       "      <td>entailment</td>\n",
       "    </tr>\n",
       "  </tbody>\n",
       "</table>\n",
       "</div>"
      ],
      "text/plain": [
       "                                           sentence1  \\\n",
       "0  Two women are embracing while holding to go pa...   \n",
       "1  Two women are embracing while holding to go pa...   \n",
       "2  Two women are embracing while holding to go pa...   \n",
       "3  Two young children in blue jerseys, one with t...   \n",
       "4  Two young children in blue jerseys, one with t...   \n",
       "5  Two young children in blue jerseys, one with t...   \n",
       "6  A man selling donuts to a customer during a wo...   \n",
       "7  A man selling donuts to a customer during a wo...   \n",
       "8  A man selling donuts to a customer during a wo...   \n",
       "9  Two young boys of opposing teams play football...   \n",
       "\n",
       "                                           sentence2     gold_label  \n",
       "0  The sisters are hugging goodbye while holding ...        neutral  \n",
       "1                    Two woman are holding packages.     entailment  \n",
       "2               The men are fighting outside a deli.  contradiction  \n",
       "3     Two kids in numbered jerseys wash their hands.     entailment  \n",
       "4           Two kids at a ballgame wash their hands.        neutral  \n",
       "5                Two kids in jackets walk to school.  contradiction  \n",
       "6         A woman drinks her coffee in a small cafe.  contradiction  \n",
       "7  A man selling donuts to a customer during a wo...        neutral  \n",
       "8                A man selling donuts to a customer.     entailment  \n",
       "9                                 boys play football     entailment  "
      ]
     },
     "execution_count": 7,
     "metadata": {},
     "output_type": "execute_result"
    }
   ],
   "source": [
    "va_df = val_df[[\"sentence1\",\"sentence2\",\"gold_label\"]]\n",
    "va_df.head(10)"
   ]
  },
  {
   "cell_type": "code",
   "execution_count": 8,
   "id": "e9447030",
   "metadata": {},
   "outputs": [
    {
     "data": {
      "text/html": [
       "<div>\n",
       "<style scoped>\n",
       "    .dataframe tbody tr th:only-of-type {\n",
       "        vertical-align: middle;\n",
       "    }\n",
       "\n",
       "    .dataframe tbody tr th {\n",
       "        vertical-align: top;\n",
       "    }\n",
       "\n",
       "    .dataframe thead th {\n",
       "        text-align: right;\n",
       "    }\n",
       "</style>\n",
       "<table border=\"1\" class=\"dataframe\">\n",
       "  <thead>\n",
       "    <tr style=\"text-align: right;\">\n",
       "      <th></th>\n",
       "      <th>sentence1</th>\n",
       "      <th>sentence2</th>\n",
       "      <th>gold_label</th>\n",
       "    </tr>\n",
       "  </thead>\n",
       "  <tbody>\n",
       "    <tr>\n",
       "      <th>0</th>\n",
       "      <td>This church choir sings to the masses as they ...</td>\n",
       "      <td>The church has cracks in the ceiling.</td>\n",
       "      <td>neutral</td>\n",
       "    </tr>\n",
       "    <tr>\n",
       "      <th>1</th>\n",
       "      <td>This church choir sings to the masses as they ...</td>\n",
       "      <td>The church is filled with song.</td>\n",
       "      <td>entailment</td>\n",
       "    </tr>\n",
       "    <tr>\n",
       "      <th>2</th>\n",
       "      <td>This church choir sings to the masses as they ...</td>\n",
       "      <td>A choir singing at a baseball game.</td>\n",
       "      <td>contradiction</td>\n",
       "    </tr>\n",
       "    <tr>\n",
       "      <th>3</th>\n",
       "      <td>A woman with a green headscarf, blue shirt and...</td>\n",
       "      <td>The woman is young.</td>\n",
       "      <td>neutral</td>\n",
       "    </tr>\n",
       "    <tr>\n",
       "      <th>4</th>\n",
       "      <td>A woman with a green headscarf, blue shirt and...</td>\n",
       "      <td>The woman is very happy.</td>\n",
       "      <td>entailment</td>\n",
       "    </tr>\n",
       "    <tr>\n",
       "      <th>5</th>\n",
       "      <td>A woman with a green headscarf, blue shirt and...</td>\n",
       "      <td>The woman has been shot.</td>\n",
       "      <td>contradiction</td>\n",
       "    </tr>\n",
       "    <tr>\n",
       "      <th>6</th>\n",
       "      <td>An old man with a package poses in front of an...</td>\n",
       "      <td>A man poses in front of an ad.</td>\n",
       "      <td>entailment</td>\n",
       "    </tr>\n",
       "    <tr>\n",
       "      <th>7</th>\n",
       "      <td>An old man with a package poses in front of an...</td>\n",
       "      <td>A man poses in front of an ad for beer.</td>\n",
       "      <td>neutral</td>\n",
       "    </tr>\n",
       "    <tr>\n",
       "      <th>8</th>\n",
       "      <td>An old man with a package poses in front of an...</td>\n",
       "      <td>A man walks by an ad.</td>\n",
       "      <td>contradiction</td>\n",
       "    </tr>\n",
       "    <tr>\n",
       "      <th>9</th>\n",
       "      <td>A statue at a museum that no seems to be looki...</td>\n",
       "      <td>The statue is offensive and people are mad tha...</td>\n",
       "      <td>neutral</td>\n",
       "    </tr>\n",
       "  </tbody>\n",
       "</table>\n",
       "</div>"
      ],
      "text/plain": [
       "                                           sentence1  \\\n",
       "0  This church choir sings to the masses as they ...   \n",
       "1  This church choir sings to the masses as they ...   \n",
       "2  This church choir sings to the masses as they ...   \n",
       "3  A woman with a green headscarf, blue shirt and...   \n",
       "4  A woman with a green headscarf, blue shirt and...   \n",
       "5  A woman with a green headscarf, blue shirt and...   \n",
       "6  An old man with a package poses in front of an...   \n",
       "7  An old man with a package poses in front of an...   \n",
       "8  An old man with a package poses in front of an...   \n",
       "9  A statue at a museum that no seems to be looki...   \n",
       "\n",
       "                                           sentence2     gold_label  \n",
       "0              The church has cracks in the ceiling.        neutral  \n",
       "1                    The church is filled with song.     entailment  \n",
       "2                A choir singing at a baseball game.  contradiction  \n",
       "3                                The woman is young.        neutral  \n",
       "4                           The woman is very happy.     entailment  \n",
       "5                           The woman has been shot.  contradiction  \n",
       "6                     A man poses in front of an ad.     entailment  \n",
       "7            A man poses in front of an ad for beer.        neutral  \n",
       "8                              A man walks by an ad.  contradiction  \n",
       "9  The statue is offensive and people are mad tha...        neutral  "
      ]
     },
     "execution_count": 8,
     "metadata": {},
     "output_type": "execute_result"
    }
   ],
   "source": [
    "te_df = test_df[[\"sentence1\",\"sentence2\",\"gold_label\"]]\n",
    "te_df.head(10)"
   ]
  },
  {
   "cell_type": "code",
   "execution_count": 9,
   "id": "b5fc0b35",
   "metadata": {},
   "outputs": [
    {
     "data": {
      "text/plain": [
       "(sentence1     0\n",
       " sentence2     0\n",
       " gold_label    0\n",
       " dtype: int64,\n",
       " (549367, 3))"
      ]
     },
     "execution_count": 9,
     "metadata": {},
     "output_type": "execute_result"
    }
   ],
   "source": [
    "tr_df.isnull().sum(), tr_df.shape"
   ]
  },
  {
   "cell_type": "code",
   "execution_count": 10,
   "id": "aecab53a",
   "metadata": {},
   "outputs": [
    {
     "data": {
      "text/plain": [
       "(sentence1     0\n",
       " sentence2     0\n",
       " gold_label    0\n",
       " dtype: int64,\n",
       " (9842, 3))"
      ]
     },
     "execution_count": 10,
     "metadata": {},
     "output_type": "execute_result"
    }
   ],
   "source": [
    "va_df.isnull().sum(), va_df.shape"
   ]
  },
  {
   "cell_type": "code",
   "execution_count": 11,
   "id": "ec9a6e5f",
   "metadata": {},
   "outputs": [
    {
     "data": {
      "text/plain": [
       "(sentence1     0\n",
       " sentence2     0\n",
       " gold_label    0\n",
       " dtype: int64,\n",
       " (9824, 3))"
      ]
     },
     "execution_count": 11,
     "metadata": {},
     "output_type": "execute_result"
    }
   ],
   "source": [
    "te_df.isnull().sum(), te_df.shape"
   ]
  },
  {
   "cell_type": "code",
   "execution_count": 12,
   "id": "f2135190",
   "metadata": {},
   "outputs": [
    {
     "name": "stdout",
     "output_type": "stream",
     "text": [
      "A person on a horse jumps over a broken down airplane.\n",
      "A person is at a diner, ordering an omelette.\n",
      "contradiction\n"
     ]
    }
   ],
   "source": [
    "print(tr_df.sentence1[1])\n",
    "print(tr_df.sentence2[1])\n",
    "print(tr_df.gold_label[1])"
   ]
  },
  {
   "cell_type": "code",
   "execution_count": 13,
   "id": "4eb3d2cf",
   "metadata": {
    "scrolled": true
   },
   "outputs": [
    {
     "name": "stdout",
     "output_type": "stream",
     "text": [
      "Two women are embracing while holding to go packages.\n",
      "Two woman are holding packages.\n",
      "entailment\n"
     ]
    }
   ],
   "source": [
    "print(va_df.sentence1[1])\n",
    "print(va_df.sentence2[1])\n",
    "print(va_df.gold_label[1])"
   ]
  },
  {
   "cell_type": "markdown",
   "id": "8c72d55c",
   "metadata": {},
   "source": [
    "DATA VISULAIZATION"
   ]
  },
  {
   "cell_type": "code",
   "execution_count": 82,
   "id": "76843313",
   "metadata": {},
   "outputs": [
    {
     "data": {
      "image/png": "[encoded data removed]",
      "text/plain": [
       "<Figure size 576x432 with 1 Axes>"
      ]
     },
     "metadata": {},
     "output_type": "display_data"
    },
    {
     "data": {
      "image/png": "[encoded data removed]",
      "text/plain": [
       "<Figure size 576x432 with 1 Axes>"
      ]
     },
     "metadata": {},
     "output_type": "display_data"
    }
   ],
   "source": [
    "###VISUALIZING THE DISTRIBUTION####\n",
    "labels, frequencies = np.unique(tr_df.gold_label.values, return_counts = True)\n",
    "\n",
    "plt.figure(figsize = (8, 6))\n",
    "plt.pie(frequencies,labels = labels, autopct = '%1.1f%%')\n",
    "plt.title('Training distribution')\n",
    "plt.show()\n",
    "\n",
    "label, frequencie = np.unique(va_df.gold_label.values, return_counts = True)\n",
    "colors = ['#ff9999','#66b3ff','#99ff99']\n",
    "plt.figure(figsize = (8,6))\n",
    "plt.pie(frequencie,labels = label, colors=colors, autopct = '%1.1f%%')\n",
    "plt.title('Validation distribution')\n",
    "plt.show()"
   ]
  },
  {
   "cell_type": "code",
   "execution_count": 15,
   "id": "732b6d5a",
   "metadata": {},
   "outputs": [
    {
     "data": {
      "text/plain": [
       "<matplotlib.legend.Legend at 0x7f896aad82d0>"
      ]
     },
     "execution_count": 15,
     "metadata": {},
     "output_type": "execute_result"
    },
    {
     "data": {
      "image/png": "[encoded data removed]",
      "text/plain": [
       "<Figure size 576x432 with 1 Axes>"
      ]
     },
     "metadata": {
      "needs_background": "light"
     },
     "output_type": "display_data"
    }
   ],
   "source": [
    "## LENGTH OF SENTENCES\n",
    "for data in [tr_df, va_df, te_df]:\n",
    "    data['sent1_length'] = data.loc[:, 'sentence1'].str.len()\n",
    "    data['sent2_length'] = data.loc[:, 'sentence2'].str.len()\n",
    "\n",
    "plt.figure(figsize=(8, 6))\n",
    "sns.distplot(tr_df['sent1_length'], label = 'premise')\n",
    "sns.distplot(tr_df['sent2_length'], label = 'hypothesis')\n",
    "plt.title('Length of the sentences')\n",
    "plt.xlabel('length')\n",
    "plt.ylabel('density')\n",
    "plt.legend()"
   ]
  },
  {
   "cell_type": "code",
   "execution_count": 16,
   "id": "0236870f",
   "metadata": {},
   "outputs": [
    {
     "name": "stdout",
     "output_type": "stream",
     "text": [
      "--------------------------------------------------\n",
      "Average lenth of the premise of class \"contradiction\" is 66.2737257556486\n",
      "Average lenth of the hypothesis of class \"contradiction\" is 36.83186033943457\n",
      "--------------------------------------------------\n",
      "Average lenth of the premise of class \"entailment\" is 66.27328041174161\n",
      "Average lenth of the hypothesis of class \"entailment\" is 33.510468007153136\n",
      "--------------------------------------------------\n",
      "Average lenth of the premise of class \"neutral\" is 66.27515265588409\n",
      "Average lenth of the hypothesis of class \"neutral\" is 42.095275874898775\n"
     ]
    }
   ],
   "source": [
    "## AVERAGE LENGTH OF SENTENCE UNDER EACH LABEL\n",
    "gps = tr_df.groupby(['gold_label'])\n",
    "for i in gps.groups.keys():\n",
    "    print('-' * 50)\n",
    "    group = gps.get_group(i)\n",
    "    print('Average lenth of the premise of class \"{}\" is {}'.format(i, group['sent1_length'].mean()))\n",
    "    print('Average lenth of the hypothesis of class \"{}\" is {}'.format(i, group['sent2_length'].mean()))"
   ]
  },
  {
   "cell_type": "code",
   "execution_count": 17,
   "id": "33c6809e",
   "metadata": {},
   "outputs": [
    {
     "data": {
      "text/plain": [
       "<matplotlib.legend.Legend at 0x7f896ad40990>"
      ]
     },
     "execution_count": 17,
     "metadata": {},
     "output_type": "execute_result"
    },
    {
     "data": {
      "image/png": "[encoded data removed]",
      "text/plain": [
       "<Figure size 720x432 with 1 Axes>"
      ]
     },
     "metadata": {
      "needs_background": "light"
     },
     "output_type": "display_data"
    }
   ],
   "source": [
    "## VIZ FOR THE LENGTH OF HYPOTHESIS UNDER EACH LABEL\n",
    "plt.figure(figsize=(10, 6))\n",
    "#gps = train_data.groupby(['label'])\n",
    "for i in gps.groups.keys():\n",
    "    group = gps.get_group(i)\n",
    "    sns.distplot(group['sent2_length'], label = i)\n",
    "    plt.xlabel('length')\n",
    "    plt.title('Hypothesis length distribution of each class')\n",
    "plt.legend()"
   ]
  },
  {
   "cell_type": "markdown",
   "id": "9133000e",
   "metadata": {},
   "source": [
    "# DATA PREPROCESSING "
   ]
  },
  {
   "cell_type": "code",
   "execution_count": 18,
   "id": "c496f435",
   "metadata": {},
   "outputs": [],
   "source": [
    "def sanitize_text(text):\n",
    "    # Remove punctuation and lower case\n",
    "    sanitized_text = re.sub(r'[^\\w\\s]', '', str(text).lower().strip())\n",
    "    return sanitized_text\n",
    "\n",
    "tr_df[\"premise\"] = tr_df[\"sentence1\"].apply(lambda x: sanitize_text(x))\n",
    "tr_df[\"hypothesis\"] = tr_df[\"sentence2\"].apply(lambda x: sanitize_text(x))\n",
    "\n",
    "va_df[\"premise\"] = va_df[\"sentence1\"].apply(lambda x: sanitize_text(x))\n",
    "va_df[\"hypothesis\"] = va_df[\"sentence2\"].apply(lambda x: sanitize_text(x))\n",
    "\n",
    "te_df[\"premise\"] = te_df[\"sentence1\"].apply(lambda x: sanitize_text(x))\n",
    "te_df[\"hypothesis\"] = te_df[\"sentence2\"].apply(lambda x: sanitize_text(x))"
   ]
  },
  {
   "cell_type": "code",
   "execution_count": 19,
   "id": "17ac2074",
   "metadata": {},
   "outputs": [],
   "source": [
    "### LABEL ENCODING\n",
    "label_index = {\n",
    "    \"entailment\":0,\n",
    "    \"neutral\":1,\n",
    "    \"contradiction\":2,\n",
    "}\n",
    "\n",
    "def indexify_label(label):\n",
    "    return label_index[label]\n",
    "\n",
    "tr_df[\"label_index\"] = tr_df[\"gold_label\"].apply(lambda x: indexify_label(x))\n",
    "va_df[\"label_index\"] = va_df[\"gold_label\"].apply(lambda x: indexify_label(x))\n",
    "te_df[\"label_index\"] = te_df[\"gold_label\"].apply(lambda x: indexify_label(x))"
   ]
  },
  {
   "cell_type": "code",
   "execution_count": 20,
   "id": "c8397a0e",
   "metadata": {},
   "outputs": [],
   "source": [
    "# Tokenize text\n",
    "all_train_text = list(tr_df['premise']) + list(tr_df['hypothesis']) + list(va_df['premise']) + list(va_df['hypothesis'])\n",
    "\n",
    "tokenizer = preprocessing.text.Tokenizer(oov_token=\"OOV\")\n",
    "tokenizer.fit_on_texts(all_train_text)\n",
    "word_index = tokenizer.word_index"
   ]
  },
  {
   "cell_type": "code",
   "execution_count": 21,
   "id": "47ed5530",
   "metadata": {},
   "outputs": [],
   "source": [
    "## CONVERT TEXT TO SEQUENCE\n",
    "def texts_to_sequences(texts):\n",
    "    return tokenizer.texts_to_sequences(texts)\n",
    "\n",
    "train_sequence_dict = dict()\n",
    "val_sequence_dict = dict()\n",
    "test_sequence_dict = dict()\n",
    "\n",
    "# Create Train sequences\n",
    "train_sequence_dict['premise'] = texts_to_sequences(tr_df['premise'])\n",
    "train_sequence_dict['hypothesis'] = texts_to_sequences(tr_df['hypothesis'])\n",
    "\n",
    "# Create Val sequences\n",
    "val_sequence_dict['premise'] = texts_to_sequences(va_df['premise'])\n",
    "val_sequence_dict['hypothesis'] = texts_to_sequences(va_df['hypothesis'])\n",
    "\n",
    "# Create test sequences\n",
    "test_sequence_dict['premise'] = texts_to_sequences(te_df['premise'])\n",
    "test_sequence_dict['hypothesis'] = texts_to_sequences(te_df['hypothesis'])"
   ]
  },
  {
   "cell_type": "code",
   "execution_count": 22,
   "id": "948e3ae2",
   "metadata": {},
   "outputs": [],
   "source": [
    "### PAD THE CREATED SUQUENCE\n",
    "max_sequence_len = 50\n",
    "def pad_sequences(sequences, maxlen):\n",
    "    '''\n",
    "        padding=\"post\": add zeros at the end of the sequence to make the samples in the same size.\n",
    "        maxlen=max_sequence_len: this input defines the maximum number of words in sequences.\n",
    "        truncating=\"post\" when a sentence exceeds the number of maximum words, drop the last words in the sentence.\n",
    "    '''\n",
    "    return preprocessing.sequence.pad_sequences(sequences, maxlen=maxlen, padding=\"post\", truncating=\"post\")\n",
    "\n",
    "# Pad Train Sequences\n",
    "train_sequence_dict['premise_padded'] = pad_sequences(train_sequence_dict['premise'], maxlen=max_sequence_len)\n",
    "train_sequence_dict['hypothesis_padded'] = pad_sequences(train_sequence_dict['hypothesis'], maxlen=max_sequence_len)\n",
    "\n",
    "# Pad Val Sequences\n",
    "val_sequence_dict['premise_padded'] = pad_sequences(val_sequence_dict['premise'], maxlen=max_sequence_len)\n",
    "val_sequence_dict['hypothesis_padded'] = pad_sequences(val_sequence_dict['hypothesis'], maxlen=max_sequence_len)\n",
    "\n",
    "# Pad test Sequences\n",
    "test_sequence_dict['premise_padded'] = pad_sequences(test_sequence_dict['premise'], maxlen=max_sequence_len)\n",
    "test_sequence_dict['hypothesis_padded'] = pad_sequences(test_sequence_dict['hypothesis'], maxlen=max_sequence_len)"
   ]
  },
  {
   "cell_type": "code",
   "execution_count": 23,
   "id": "e4aed150",
   "metadata": {},
   "outputs": [],
   "source": [
    "embedding_model = gensim_api.load(\"word2vec-google-news-300\")"
   ]
  },
  {
   "cell_type": "code",
   "execution_count": 24,
   "id": "677a4ce9",
   "metadata": {},
   "outputs": [],
   "source": [
    "vector_size = 300\n",
    "\n",
    "# Length of vocabulary is added a 1 to account for the OOV token\n",
    "len_vocab = len(word_index)+1\n",
    "\n",
    "# Create embedding matrix (length of vocabulary x vector size)\n",
    "embeddings = np.zeros((len_vocab, vector_size))\n",
    "\n",
    "for word,idx in word_index.items():\n",
    "    # Update embeddings with pre-trained vectors if word exists\n",
    "    try:\n",
    "        embeddings[idx] = embedding_model[word]\n",
    "        \n",
    "    # If word does not exist, skip\n",
    "    except:\n",
    "        pass"
   ]
  },
  {
   "cell_type": "code",
   "execution_count": 25,
   "id": "2c94d39b",
   "metadata": {},
   "outputs": [],
   "source": [
    "# Function to return an embedding layer\n",
    "def embedding_layer(name, embeddings, num_nodes=16):\n",
    "    return models.Sequential(\n",
    "        [\n",
    "            # Embedding Layer\n",
    "            layers.Embedding(\n",
    "                embeddings.shape[0],\n",
    "                embeddings.shape[1],\n",
    "                input_length=max_sequence_len,\n",
    "                weights=[embeddings],\n",
    "                trainable=False,\n",
    "            ),\n",
    "        ], name=name)\n",
    "\n",
    "\n",
    "# Function to return a feed-forward layer\n",
    "def feed_forward_layer(name, num_nodes=200, activation=\"relu\", dropout_rate=0):\n",
    "    return models.Sequential(\n",
    "        [\n",
    "            layers.Dense(num_nodes, activation=activation),\n",
    "            layers.Dropout(dropout_rate),\n",
    "            layers.Dense(num_nodes, activation=activation),\n",
    "            layers.Dropout(dropout_rate),\n",
    "        ], name=name)\n",
    "\n",
    "# Function to carry out normalisation for soft-alignment\n",
    "def normalizer(axis):\n",
    "    def _normalize(vector_similarities):\n",
    "        exp_weights = K.exp(vector_similarities)\n",
    "        sum_weights = K.sum(exp_weights, axis=axis, keepdims=True)\n",
    "        return exp_weights / sum_weights\n",
    "\n",
    "    return _normalize\n",
    "\n",
    "\n",
    "# Function to return distance-sensitive bias terms for intra-sentence attention\n",
    "def distance_terms(input_shape):\n",
    "    \n",
    "    time_steps = input_shape[1]\n",
    "    distance_terms = np.zeros(shape=(time_steps, time_steps))\n",
    "    for i in range(time_steps):\n",
    "        for j in range(time_steps):\n",
    "            distance_terms[i][j] = min(i-j, 10)\n",
    "    \n",
    "    #return K.variable(distance_terms)\n",
    "    return distance_terms\n",
    "        \n",
    "    \n",
    "# Function to carry out normalisation for intra-sentence attention\n",
    "def intra_normalizer(axis, distance_terms):\n",
    "    def _normalize(f_i_j):\n",
    "        exp_weights = K.exp(f_i_j + distance_terms)\n",
    "        sum_weights = K.sum(exp_weights, axis=axis, keepdims=True)\n",
    "        return exp_weights / sum_weights\n",
    "\n",
    "    return _normalize\n",
    "\n",
    "\n",
    "# Function to sum and return an aggregated vector\n",
    "def aggregater(x):\n",
    "    return K.sum(x, axis=1, keepdims=False)\n"
   ]
  },
  {
   "cell_type": "code",
   "execution_count": 26,
   "id": "d1afe852",
   "metadata": {},
   "outputs": [],
   "source": [
    "# Function to combine layers together and return the final dam model\n",
    "def build_dam_model(num_nodes, intra_sentence_attention=False):\n",
    "    \n",
    "    # Input Layer\n",
    "    x1 = layers.Input(shape=(max_sequence_len,), name=\"Input_x1\")\n",
    "    x2 = layers.Input(shape=(max_sequence_len,), name=\"Input_x2\")\n",
    "    \n",
    "    # Embedding Layer\n",
    "    embedding = embedding_layer(\"Embedding\", embeddings)\n",
    "    e1 = embedding(x1)\n",
    "    e2 = embedding(x2)\n",
    "    \n",
    "    input_a = e1\n",
    "    input_b = e2\n",
    "    \n",
    "    if intra_sentence_attention:\n",
    "        # Intra-Sentence Attention\n",
    "        feedforward_intra = feed_forward_layer(\"FF_Intra\", num_nodes, dropout_rate= 0.1)\n",
    "        intra_a_i = feedforward_intra(e1)\n",
    "        intra_a_j = feedforward_intra(e2)\n",
    "\n",
    "        f_i_j = layers.dot([intra_a_i, layers.Permute((2,1))(intra_a_j)], axes=(2,1), name=\"Intra-Attention\")\n",
    "\n",
    "        # -> Distance Sensitive bias terms\n",
    "        d_i_j = distance_terms(e1.shape)\n",
    "\n",
    "        # -> Self-Aligned Phrases\n",
    "        norm_i = layers.Lambda(intra_normalizer(1, d_i_j), name=\"Normalise_Similarities_i\")(f_i_j)\n",
    "        norm_j = layers.Lambda(intra_normalizer(2, d_i_j), name=\"Normalise_Similarities_j\")(f_i_j)\n",
    "        self_aligned_ai = layers.dot([norm_i, e1], axes=1, name=\"Self-Align_a_i\")\n",
    "        self_aligned_bi = layers.dot([norm_j, e2], axes=1, name=\"Self-Align_b_i\")\n",
    "\n",
    "        input_a = layers.concatenate([e1, self_aligned_ai], name=\"Concat_embedding_and_self-aligned_a\")\n",
    "        input_b = layers.concatenate([e2, self_aligned_bi], name=\"Concat_embedding_and_self-aligned_b\")\n",
    "        \n",
    "    # Attend\n",
    "    # -> Pass each word through a FFN with RelU activations to yield a non-linear transformation.\n",
    "    feedforward_F = feed_forward_layer(\"FF_F\", num_nodes, dropout_rate= 0.1)\n",
    "    x1_nonlinear = feedforward_F(input_a)\n",
    "    x2_nonlinear = feedforward_F(input_b)\n",
    "    \n",
    "    # -> Compute pairwise word similarity between every word in x1 compared to every word in x2, and vice versa.\n",
    "    vector_similarities = layers.dot([x1_nonlinear, layers.Permute((2,1))(x2_nonlinear)], axes=(2,1), name=\"Pairwise_Similarity\")\n",
    "    \n",
    "    # -> Compute Soft-Attention\n",
    "    norm_similarities_x1 = layers.Lambda(normalizer(1), name=\"Normalise_Similarities_x1\")(vector_similarities)\n",
    "    norm_similarities_x2 = layers.Lambda(normalizer(2), name=\"Normalise_Similarities_x2\")(vector_similarities)\n",
    "    alpha = layers.dot([norm_similarities_x2, e1], axes=1, name=\"Alpha\")\n",
    "    beta = layers.dot([norm_similarities_x1, e2], axes=1, name=\"Beta\")\n",
    "        \n",
    "    # Compare\n",
    "    feedforward_G = feed_forward_layer(\"FF_G\", num_nodes, dropout_rate= 0.1)\n",
    "    comp1 = layers.concatenate([e1, beta], name=\"Concat_x1_beta\")\n",
    "    comp2 = layers.concatenate([e2, alpha], name=\"Concat_x2_alpha\")\n",
    "    \n",
    "    v1 = feedforward_G(comp1)\n",
    "    v2 = feedforward_G(comp2)\n",
    "    \n",
    "    # Aggregate\n",
    "    v1_sum = layers.Lambda(aggregater, name=\"Aggregate_v1\")(v1)\n",
    "    v2_sum = layers.Lambda(aggregater, name=\"Aggregate_v2\")(v2)\n",
    "    concat = layers.concatenate([v1_sum, v2_sum], name=\"Concat_v1_v2\")\n",
    "    \n",
    "    # Output Layer\n",
    "    feedforward_H = feed_forward_layer(\"FF_H\", num_nodes, dropout_rate= 0.1)\n",
    "    y = feedforward_H(concat)\n",
    "    y = layers.Dense(3, activation=\"softmax\", name=\"Output\")(y)\n",
    "        \n",
    "    model = Model(inputs=[x1, x2], outputs=y)\n",
    "    \n",
    "    model.compile(\n",
    "        loss=\"sparse_categorical_crossentropy\",\n",
    "        metrics=[\"accuracy\"],\n",
    "        optimizer=Adam(lr=0.0005),\n",
    "    )\n",
    "\n",
    "    return model"
   ]
  },
  {
   "cell_type": "code",
   "execution_count": 27,
   "id": "0d03b5b3",
   "metadata": {},
   "outputs": [
    {
     "name": "stderr",
     "output_type": "stream",
     "text": [
      "2022-01-21 17:56:38.885695: I tensorflow/core/platform/cpu_feature_guard.cc:151] This TensorFlow binary is optimized with oneAPI Deep Neural Network Library (oneDNN) to use the following CPU instructions in performance-critical operations:  AVX2 FMA\n",
      "To enable them in other operations, rebuild TensorFlow with the appropriate compiler flags.\n"
     ]
    },
    {
     "name": "stdout",
     "output_type": "stream",
     "text": [
      "Model: \"model\"\n",
      "__________________________________________________________________________________________________\n",
      " Layer (type)                   Output Shape         Param #     Connected to                     \n",
      "==================================================================================================\n",
      " Input_x1 (InputLayer)          [(None, 50)]         0           []                               \n",
      "                                                                                                  \n",
      " Input_x2 (InputLayer)          [(None, 50)]         0           []                               \n",
      "                                                                                                  \n",
      " Embedding (Sequential)         (None, 50, 300)      10873200    ['Input_x1[0][0]',               \n",
      "                                                                  'Input_x2[0][0]']               \n",
      "                                                                                                  \n",
      " FF_F (Sequential)              (None, 50, 200)      100400      ['Embedding[0][0]',              \n",
      "                                                                  'Embedding[1][0]']              \n",
      "                                                                                                  \n",
      " permute (Permute)              (None, 200, 50)      0           ['FF_F[1][0]']                   \n",
      "                                                                                                  \n",
      " Pairwise_Similarity (Dot)      (None, 50, 50)       0           ['FF_F[0][0]',                   \n",
      "                                                                  'permute[0][0]']                \n",
      "                                                                                                  \n",
      " Normalise_Similarities_x1 (Lam  (None, 50, 50)      0           ['Pairwise_Similarity[0][0]']    \n",
      " bda)                                                                                             \n",
      "                                                                                                  \n",
      " Normalise_Similarities_x2 (Lam  (None, 50, 50)      0           ['Pairwise_Similarity[0][0]']    \n",
      " bda)                                                                                             \n",
      "                                                                                                  \n",
      " Beta (Dot)                     (None, 50, 300)      0           ['Normalise_Similarities_x1[0][0]\n",
      "                                                                 ',                               \n",
      "                                                                  'Embedding[1][0]']              \n",
      "                                                                                                  \n",
      " Alpha (Dot)                    (None, 50, 300)      0           ['Normalise_Similarities_x2[0][0]\n",
      "                                                                 ',                               \n",
      "                                                                  'Embedding[0][0]']              \n",
      "                                                                                                  \n",
      " Concat_x1_beta (Concatenate)   (None, 50, 600)      0           ['Embedding[0][0]',              \n",
      "                                                                  'Beta[0][0]']                   \n",
      "                                                                                                  \n",
      " Concat_x2_alpha (Concatenate)  (None, 50, 600)      0           ['Embedding[1][0]',              \n",
      "                                                                  'Alpha[0][0]']                  \n",
      "                                                                                                  \n",
      " FF_G (Sequential)              (None, 50, 200)      160400      ['Concat_x1_beta[0][0]',         \n",
      "                                                                  'Concat_x2_alpha[0][0]']        \n",
      "                                                                                                  \n",
      " Aggregate_v1 (Lambda)          (None, 200)          0           ['FF_G[0][0]']                   \n",
      "                                                                                                  \n",
      " Aggregate_v2 (Lambda)          (None, 200)          0           ['FF_G[1][0]']                   \n",
      "                                                                                                  \n",
      " Concat_v1_v2 (Concatenate)     (None, 400)          0           ['Aggregate_v1[0][0]',           \n",
      "                                                                  'Aggregate_v2[0][0]']           \n",
      "                                                                                                  \n",
      " FF_H (Sequential)              (None, 200)          120400      ['Concat_v1_v2[0][0]']           \n",
      "                                                                                                  \n",
      " Output (Dense)                 (None, 3)            603         ['FF_H[0][0]']                   \n",
      "                                                                                                  \n",
      "==================================================================================================\n",
      "Total params: 11,255,003\n",
      "Trainable params: 381,803\n",
      "Non-trainable params: 10,873,200\n",
      "__________________________________________________________________________________________________\n"
     ]
    }
   ],
   "source": [
    "dam_model = build_dam_model(200)\n",
    "dam_model.summary()"
   ]
  },
  {
   "cell_type": "code",
   "execution_count": 28,
   "id": "f30cfec8",
   "metadata": {},
   "outputs": [],
   "source": [
    "# Model Training Inputs\n",
    "t_1 = train_sequence_dict['premise_padded']\n",
    "t_2 = train_sequence_dict['hypothesis_padded']\n",
    "t_y = tr_df['label_index']\n",
    "\n",
    "# Model Validation Inputs\n",
    "v_1 = val_sequence_dict['premise_padded']\n",
    "v_2 = val_sequence_dict['hypothesis_padded']\n",
    "v_y = va_df['label_index']"
   ]
  },
  {
   "cell_type": "code",
   "execution_count": 29,
   "id": "0573eca5",
   "metadata": {
    "scrolled": true
   },
   "outputs": [
    {
     "data": {
      "text/plain": [
       "{'name': 'Adam',\n",
       " 'learning_rate': 0.0005,\n",
       " 'decay': 0.0,\n",
       " 'beta_1': 0.9,\n",
       " 'beta_2': 0.999,\n",
       " 'epsilon': 1e-07,\n",
       " 'amsgrad': False}"
      ]
     },
     "execution_count": 29,
     "metadata": {},
     "output_type": "execute_result"
    }
   ],
   "source": [
    "# Optimiser information\n",
    "dam_model.optimizer.get_config()\n"
   ]
  },
  {
   "cell_type": "code",
   "execution_count": 42,
   "id": "52831f28",
   "metadata": {},
   "outputs": [
    {
     "name": "stdout",
     "output_type": "stream",
     "text": [
      "Epoch 1/20\n",
      "1073/1073 [==============================] - 1539s 1s/step - loss: 0.6755 - accuracy: 0.7141 - val_loss: 0.5325 - val_accuracy: 0.7876\n",
      "Epoch 2/20\n",
      "1073/1073 [==============================] - 1491s 1s/step - loss: 0.5502 - accuracy: 0.7810 - val_loss: 0.4745 - val_accuracy: 0.8131\n",
      "Epoch 3/20\n",
      "1073/1073 [==============================] - 1441s 1s/step - loss: 0.5108 - accuracy: 0.7988 - val_loss: 0.4581 - val_accuracy: 0.8201\n",
      "Epoch 4/20\n",
      "1073/1073 [==============================] - 1447s 1s/step - loss: 0.4874 - accuracy: 0.8095 - val_loss: 0.4418 - val_accuracy: 0.8249\n",
      "Epoch 5/20\n",
      "1073/1073 [==============================] - 1451s 1s/step - loss: 0.4702 - accuracy: 0.8169 - val_loss: 0.4297 - val_accuracy: 0.8315\n",
      "Epoch 6/20\n",
      "1073/1073 [==============================] - 1453s 1s/step - loss: 0.4565 - accuracy: 0.8226 - val_loss: 0.4257 - val_accuracy: 0.8319\n",
      "Epoch 7/20\n",
      "1073/1073 [==============================] - 1444s 1s/step - loss: 0.4452 - accuracy: 0.8276 - val_loss: 0.4202 - val_accuracy: 0.8393\n",
      "Epoch 8/20\n",
      "1073/1073 [==============================] - 1419s 1s/step - loss: 0.4348 - accuracy: 0.8317 - val_loss: 0.4175 - val_accuracy: 0.8378\n",
      "Epoch 9/20\n",
      "1073/1073 [==============================] - 1408s 1s/step - loss: 0.4261 - accuracy: 0.8359 - val_loss: 0.4136 - val_accuracy: 0.8425\n",
      "Epoch 10/20\n",
      "1073/1073 [==============================] - 1410s 1s/step - loss: 0.4190 - accuracy: 0.8391 - val_loss: 0.4144 - val_accuracy: 0.8394\n",
      "Epoch 11/20\n",
      "1073/1073 [==============================] - 1437s 1s/step - loss: 0.4119 - accuracy: 0.8421 - val_loss: 0.4087 - val_accuracy: 0.8418\n",
      "Epoch 12/20\n",
      "1073/1073 [==============================] - 1459s 1s/step - loss: 0.4051 - accuracy: 0.8452 - val_loss: 0.4095 - val_accuracy: 0.8443\n",
      "Epoch 13/20\n",
      "1073/1073 [==============================] - 1441s 1s/step - loss: 0.4000 - accuracy: 0.8469 - val_loss: 0.4105 - val_accuracy: 0.8439\n",
      "Epoch 14/20\n",
      "1073/1073 [==============================] - 1431s 1s/step - loss: 0.3943 - accuracy: 0.8496 - val_loss: 0.4086 - val_accuracy: 0.8430\n",
      "Epoch 15/20\n",
      "1073/1073 [==============================] - 1467s 1s/step - loss: 0.3892 - accuracy: 0.8515 - val_loss: 0.4009 - val_accuracy: 0.8460\n",
      "Epoch 16/20\n",
      "1073/1073 [==============================] - 1481s 1s/step - loss: 0.3839 - accuracy: 0.8536 - val_loss: 0.4066 - val_accuracy: 0.8451\n",
      "Epoch 17/20\n",
      "1073/1073 [==============================] - 1466s 1s/step - loss: 0.3797 - accuracy: 0.8557 - val_loss: 0.4025 - val_accuracy: 0.8468\n",
      "Epoch 18/20\n",
      "1073/1073 [==============================] - 1402s 1s/step - loss: 0.3755 - accuracy: 0.8574 - val_loss: 0.4081 - val_accuracy: 0.8462\n",
      "Epoch 19/20\n",
      "1073/1073 [==============================] - 1418s 1s/step - loss: 0.3716 - accuracy: 0.8591 - val_loss: 0.4060 - val_accuracy: 0.8485\n",
      "Epoch 20/20\n",
      "1073/1073 [==============================] - 1428s 1s/step - loss: 0.3687 - accuracy: 0.8600 - val_loss: 0.4118 - val_accuracy: 0.8455\n"
     ]
    }
   ],
   "source": [
    "# Train DAM model\n",
    "trained_dam_model = dam_model.fit(\n",
    "    [t_1, t_2], t_y,\n",
    "    validation_data=([v_1, v_2], v_y),\n",
    "    batch_size=512,\n",
    "    epochs=20,\n",
    ")"
   ]
  },
  {
   "cell_type": "code",
   "execution_count": 51,
   "id": "cb0c26a9",
   "metadata": {},
   "outputs": [
    {
     "data": {
      "image/png": "[encoded data removed]",
      "text/plain": [
       "<Figure size 800x400 with 4 Axes>"
      ]
     },
     "metadata": {
      "needs_background": "light"
     },
     "output_type": "display_data"
    }
   ],
   "source": [
    "metrics = [k for k in trained_dam_model.history.keys() if (\"loss\" not in k) and (\"val\" not in k)]\n",
    "fig, ax = plt.subplots(nrows=1, ncols=2, constrained_layout=True, figsize=(8,4), dpi= 100)\n",
    "fig.suptitle(\"DAM Model\", fontsize=13)\n",
    "\n",
    "ax[0].set(title=\"Training\")\n",
    "ax11 = ax[0].twinx()\n",
    "ax[0].plot(trained_dam_model.history['loss'], color='black')\n",
    "ax[0].set_xlabel('Epochs')\n",
    "ax[0].set_ylabel('Loss', color='black')\n",
    "for metric in metrics:\n",
    "    ax11.plot(trained_dam_model.history[metric], label=metric)\n",
    "ax11.set_ylabel(\"Score\", color='steelblue')\n",
    "ax11.legend()\n",
    "\n",
    "ax[1].set(title=\"Validation\")\n",
    "ax22 = ax[1].twinx()\n",
    "ax[1].plot(trained_dam_model.history['val_loss'], color='black')\n",
    "ax[1].set_xlabel('Epochs')\n",
    "ax[1].set_ylabel('Loss', color='black')\n",
    "for metric in metrics:\n",
    "     ax22.plot(trained_dam_model.history['val_'+metric], label=metric)\n",
    "ax22.set_ylabel(\"Score\", color=\"steelblue\")\n",
    "plt.show()"
   ]
  },
  {
   "cell_type": "markdown",
   "id": "bc7b5fad",
   "metadata": {},
   "source": [
    "# ML MODELS"
   ]
  },
  {
   "cell_type": "code",
   "execution_count": 49,
   "id": "5c81db41",
   "metadata": {},
   "outputs": [],
   "source": [
    "from sklearn.pipeline import Pipeline, FeatureUnion\n",
    "from sklearn.preprocessing import FunctionTransformer\n",
    "from sklearn.model_selection import train_test_split\n",
    "from sklearn.feature_extraction.text import TfidfVectorizer\n",
    "from sklearn.linear_model import LogisticRegression\n",
    "from sklearn.metrics import accuracy_score, classification_report, confusion_matrix, plot_roc_curve\n",
    "from sklearn.naive_bayes import MultinomialNB\n",
    "from sklearn.neighbors import KNeighborsClassifier"
   ]
  },
  {
   "cell_type": "code",
   "execution_count": 50,
   "id": "7c08e1d1",
   "metadata": {},
   "outputs": [],
   "source": [
    "X_train = tr_df[['premise','hypothesis']]\n",
    "Y_train= tr_df[['label_index']]\n",
    "X_val =  va_df[['premise','hypothesis']]\n",
    "Y_val = va_df[['label_index']]"
   ]
  },
  {
   "cell_type": "code",
   "execution_count": 52,
   "id": "b3294320",
   "metadata": {},
   "outputs": [],
   "source": [
    "# build bigrams, put a limit on maximal number of features\n",
    "# and minimal word frequency\n",
    "tf_idf_premise= TfidfVectorizer(ngram_range=(1, 3), max_features=100000, min_df=2,\n",
    "                         token_pattern='\\S+')\n",
    "tf_idf_hypothesis = TfidfVectorizer(ngram_range=(1, 2), max_features=10000, min_df=3,\n",
    "                         token_pattern='\\S+')\n",
    "def fn(x):\n",
    "    if isinstance(x, list): x = x[0]\n",
    "    return x['premise']\n",
    "\n",
    "def fn2(x):\n",
    "    if isinstance(x, list): x = x[0]\n",
    "    return x['hypothesis']\n",
    "\n",
    "transformer = FeatureUnion([('tf_idf_premise', \n",
    "                            Pipeline([('extract_field', FunctionTransformer(fn, validate=False)),\n",
    "                                        ('tfidf', tf_idf_premise)])),\n",
    "                            ('tf_idf_hypothesis', \n",
    "                            Pipeline([('extract_field', FunctionTransformer(fn2, validate=False)),\n",
    "                                        ('tfidf', tf_idf_hypothesis)]))])"
   ]
  },
  {
   "cell_type": "markdown",
   "id": "28ef9a11",
   "metadata": {},
   "source": [
    "LOGISTIC REGRESSION"
   ]
  },
  {
   "cell_type": "code",
   "execution_count": 53,
   "id": "93a53436",
   "metadata": {},
   "outputs": [],
   "source": [
    "lg = LogisticRegression(C=100.0, multi_class='ovr', max_iter=2000, n_jobs=-1)\n",
    "tfidf_logit_pipeline = Pipeline([('transformer', transformer), \n",
    "                                 ('logit', lg)])"
   ]
  },
  {
   "cell_type": "code",
   "execution_count": 54,
   "id": "d65480c7",
   "metadata": {},
   "outputs": [
    {
     "data": {
      "text/plain": [
       "Pipeline(steps=[('transformer',\n",
       "                 FeatureUnion(transformer_list=[('tf_idf_premise',\n",
       "                                                 Pipeline(steps=[('extract_field',\n",
       "                                                                  FunctionTransformer(func=<function fn at 0x7f88b0d21560>)),\n",
       "                                                                 ('tfidf',\n",
       "                                                                  TfidfVectorizer(max_features=100000,\n",
       "                                                                                  min_df=2,\n",
       "                                                                                  ngram_range=(1,\n",
       "                                                                                               3),\n",
       "                                                                                  token_pattern='\\\\S+'))])),\n",
       "                                                ('tf_idf_hypothesis',\n",
       "                                                 Pipeline(steps=[('extract_field',\n",
       "                                                                  FunctionTransformer(func=<function fn2 at 0x7f88b0d21320>)),\n",
       "                                                                 ('tfidf',\n",
       "                                                                  TfidfVectorizer(max_features=10000,\n",
       "                                                                                  min_df=3,\n",
       "                                                                                  ngram_range=(1,\n",
       "                                                                                               2),\n",
       "                                                                                  token_pattern='\\\\S+'))]))])),\n",
       "                ('logit',\n",
       "                 LogisticRegression(C=100.0, max_iter=2000, multi_class='ovr',\n",
       "                                    n_jobs=-1))])"
      ]
     },
     "execution_count": 54,
     "metadata": {},
     "output_type": "execute_result"
    }
   ],
   "source": [
    "tfidf_logit_pipeline.fit(X_train, Y_train)"
   ]
  },
  {
   "cell_type": "code",
   "execution_count": 55,
   "id": "780e4a30",
   "metadata": {},
   "outputs": [
    {
     "name": "stdout",
     "output_type": "stream",
     "text": [
      "Training accuracy:  0.7244028126916979\n",
      "Test accuracy:  0.6337126600284495\n"
     ]
    }
   ],
   "source": [
    "pred = tfidf_logit_pipeline.predict(X_val)\n",
    "print(\"Training accuracy: \", accuracy_score(Y_train, tfidf_logit_pipeline.predict(X_train)))\n",
    "print(\"Test accuracy: \", accuracy_score(Y_val, pred))"
   ]
  },
  {
   "cell_type": "markdown",
   "id": "43da4f73",
   "metadata": {},
   "source": [
    "NAIVE BAYES CLASSIFIER"
   ]
  },
  {
   "cell_type": "code",
   "execution_count": 56,
   "id": "2d870774",
   "metadata": {},
   "outputs": [],
   "source": [
    "NB = MultinomialNB()\n",
    "tfidf_NB_pipeline = Pipeline([('transformer', transformer), \n",
    "                                 ('NB', NB)])"
   ]
  },
  {
   "cell_type": "code",
   "execution_count": 57,
   "id": "573b8c98",
   "metadata": {},
   "outputs": [
    {
     "data": {
      "text/plain": [
       "Pipeline(steps=[('transformer',\n",
       "                 FeatureUnion(transformer_list=[('tf_idf_premise',\n",
       "                                                 Pipeline(steps=[('extract_field',\n",
       "                                                                  FunctionTransformer(func=<function fn at 0x7f88b0d21560>)),\n",
       "                                                                 ('tfidf',\n",
       "                                                                  TfidfVectorizer(max_features=100000,\n",
       "                                                                                  min_df=2,\n",
       "                                                                                  ngram_range=(1,\n",
       "                                                                                               3),\n",
       "                                                                                  token_pattern='\\\\S+'))])),\n",
       "                                                ('tf_idf_hypothesis',\n",
       "                                                 Pipeline(steps=[('extract_field',\n",
       "                                                                  FunctionTransformer(func=<function fn2 at 0x7f88b0d21320>)),\n",
       "                                                                 ('tfidf',\n",
       "                                                                  TfidfVectorizer(max_features=10000,\n",
       "                                                                                  min_df=3,\n",
       "                                                                                  ngram_range=(1,\n",
       "                                                                                               2),\n",
       "                                                                                  token_pattern='\\\\S+'))]))])),\n",
       "                ('NB', MultinomialNB())])"
      ]
     },
     "execution_count": 57,
     "metadata": {},
     "output_type": "execute_result"
    }
   ],
   "source": [
    "tfidf_NB_pipeline.fit(X_train, Y_train)"
   ]
  },
  {
   "cell_type": "code",
   "execution_count": 71,
   "id": "c38b7ae8",
   "metadata": {},
   "outputs": [
    {
     "name": "stdout",
     "output_type": "stream",
     "text": [
      "Training accuracy:  0.6265902393117897\n",
      "Test accuracy:  0.6317821580979476\n"
     ]
    }
   ],
   "source": [
    "pred2 = tfidf_NB_pipeline.predict(X_val)\n",
    "print(\"Training accuracy: \", accuracy_score(Y_train, tfidf_NB_pipeline.predict(X_train)))\n",
    "print(\"Test accuracy: \", accuracy_score(Y_val, pred2))"
   ]
  },
  {
   "cell_type": "markdown",
   "id": "a3687982",
   "metadata": {},
   "source": [
    "# MODEL EVALUATION"
   ]
  },
  {
   "cell_type": "markdown",
   "id": "49ed24dd",
   "metadata": {},
   "source": [
    "DAM_MODEL"
   ]
  },
  {
   "cell_type": "code",
   "execution_count": 43,
   "id": "53b4dd86",
   "metadata": {},
   "outputs": [],
   "source": [
    "models = {\n",
    "    \"DAM Model\": dam_model,\n",
    "}"
   ]
  },
  {
   "cell_type": "code",
   "execution_count": 44,
   "id": "7b01d554",
   "metadata": {},
   "outputs": [
    {
     "name": "stdout",
     "output_type": "stream",
     "text": [
      "DAM Model has made predictions.\n",
      "307/307 [==============================] - 10s 33ms/step - loss: 0.4164 - accuracy: 0.8491\n",
      "Test loss: 0.4163893461227417 / Test accuracy: 0.8491449356079102\n",
      "\n"
     ]
    }
   ],
   "source": [
    "# Function to apply model to test data and return predictions\n",
    "def predict_data(model, data):\n",
    "    softmax_predictions = model.predict(data)\n",
    "    \n",
    "    # If softmax prediction array is 3D remove middle dimension and make it 2D\n",
    "    if(len(softmax_predictions.shape) >= 3):\n",
    "        softmax_predictions = softmax_predictions[:, 0, :]\n",
    "        \n",
    "    index_predictions = np.argmax(softmax_predictions, axis=-1)\n",
    "    predictions = (softmax_predictions, index_predictions)\n",
    "    return predictions\n",
    "\n",
    "\n",
    "predictions = dict()\n",
    "test_data = [test_sequence_dict['premise_padded'], test_sequence_dict['hypothesis_padded']]\n",
    "test_labels = te_df[\"label_index\"]\n",
    "label_classes = list(label_index.keys())\n",
    "dummy_test = pd.get_dummies(test_labels, drop_first=False).values\n",
    "\n",
    "for model_name, model in models.items():\n",
    "    if model != None:\n",
    "        predictions[model_name] = predict_data(model, test_data)\n",
    "        print(model_name+\" has made predictions.\")\n",
    "        \n",
    "        score = model.evaluate(test_data, test_labels)\n",
    "        print(f'Test loss: {score[0]} / Test accuracy: {score[1]}\\n')"
   ]
  },
  {
   "cell_type": "code",
   "execution_count": 66,
   "id": "610add2e",
   "metadata": {},
   "outputs": [],
   "source": [
    "import sklearn.metrics as metrics"
   ]
  },
  {
   "cell_type": "code",
   "execution_count": 67,
   "id": "19556288",
   "metadata": {},
   "outputs": [
    {
     "name": "stdout",
     "output_type": "stream",
     "text": [
      "\n",
      "\n",
      "              precision    recall  f1-score   support\n",
      "\n",
      "           0       0.86      0.89      0.87      3368\n",
      "           1       0.81      0.79      0.80      3219\n",
      "           2       0.87      0.86      0.87      3237\n",
      "\n",
      "    accuracy                           0.85      9824\n",
      "   macro avg       0.85      0.85      0.85      9824\n",
      "weighted avg       0.85      0.85      0.85      9824\n",
      "\n"
     ]
    }
   ],
   "source": [
    "for model_name,preds in predictions.items():\n",
    "    index_preds = preds[1]\n",
    "\n",
    "    print(\"\\n\")\n",
    "    #print(model_name+\" Report:\")\n",
    "    print(metrics.classification_report(test_labels, index_preds))"
   ]
  },
  {
   "cell_type": "code",
   "execution_count": 68,
   "id": "8d5bb4c7",
   "metadata": {},
   "outputs": [
    {
     "data": {
      "image/png": "[encoded data removed]",
      "text/plain": [
       "<Figure size 432x288 with 2 Axes>"
      ]
     },
     "metadata": {
      "needs_background": "light"
     },
     "output_type": "display_data"
    }
   ],
   "source": [
    "for model_name, preds in predictions.items():\n",
    "    index_preds = preds[1]\n",
    "    \n",
    "    cm = metrics.confusion_matrix(test_labels, index_preds)\n",
    "    fig, ax = plt.subplots()\n",
    "    sns.heatmap(cm, annot=True, fmt='d', ax=ax, cbar=True)\n",
    "    ax.set(xlabel=\"Predicted\", ylabel=\"Actual\", xticklabels=label_classes, yticklabels=label_classes, title=model_name+\" - Confusion Matrix\")\n",
    "    plt.yticks(rotation=0)"
   ]
  },
  {
   "cell_type": "markdown",
   "id": "a8dbfa0b",
   "metadata": {},
   "source": [
    "NAIVE BAYES CLASSIFIER"
   ]
  },
  {
   "cell_type": "code",
   "execution_count": 105,
   "id": "f1f49861",
   "metadata": {},
   "outputs": [
    {
     "name": "stdout",
     "output_type": "stream",
     "text": [
      "Classification report\n",
      "              precision    recall  f1-score   support\n",
      "\n",
      "           0       0.63      0.64      0.64      3329\n",
      "           1       0.64      0.62      0.63      3235\n",
      "           2       0.63      0.63      0.63      3278\n",
      "\n",
      "    accuracy                           0.63      9842\n",
      "   macro avg       0.63      0.63      0.63      9842\n",
      "weighted avg       0.63      0.63      0.63      9842\n",
      "\n"
     ]
    }
   ],
   "source": [
    "print(\"Classification report\")\n",
    "print(classification_report(Y_val, pred2))"
   ]
  },
  {
   "cell_type": "code",
   "execution_count": 73,
   "id": "0a359c56",
   "metadata": {},
   "outputs": [
    {
     "data": {
      "text/plain": [
       "Text(0.5, 1.0, 'NB Confusion matrix')"
      ]
     },
     "execution_count": 73,
     "metadata": {},
     "output_type": "execute_result"
    },
    {
     "data": {
      "image/png": "[encoded data removed]",
      "text/plain": [
       "<Figure size 864x432 with 2 Axes>"
      ]
     },
     "metadata": {
      "needs_background": "light"
     },
     "output_type": "display_data"
    }
   ],
   "source": [
    "aux_df = tr_df[['gold_label', 'label_index']].drop_duplicates().sort_values('gold_label')\n",
    "conf_matrix = confusion_matrix(Y_val, pred2)\n",
    "plt.figure(figsize=(12, 6))\n",
    "sns.heatmap(conf_matrix, \n",
    "            annot=True,\n",
    "            xticklabels=aux_df['gold_label'].values, \n",
    "            yticklabels=aux_df['gold_label'].values,\n",
    "            cmap=\"Blues\", \n",
    "            fmt=\"d\")\n",
    "plt.ylabel('Predicted')\n",
    "plt.xlabel('Actual')\n",
    "plt.title('NB Confusion matrix')"
   ]
  },
  {
   "cell_type": "markdown",
   "id": "54994d72",
   "metadata": {},
   "source": [
    "LOGISTIC REGRESSION"
   ]
  },
  {
   "cell_type": "code",
   "execution_count": 107,
   "id": "0861c189",
   "metadata": {},
   "outputs": [
    {
     "name": "stdout",
     "output_type": "stream",
     "text": [
      "Classification report\n",
      "              precision    recall  f1-score   support\n",
      "\n",
      "           0       0.64      0.66      0.65      3329\n",
      "           1       0.63      0.62      0.63      3235\n",
      "           2       0.63      0.62      0.62      3278\n",
      "\n",
      "    accuracy                           0.63      9842\n",
      "   macro avg       0.63      0.63      0.63      9842\n",
      "weighted avg       0.63      0.63      0.63      9842\n",
      "\n"
     ]
    }
   ],
   "source": [
    "print(\"Classification report\")\n",
    "print(classification_report(Y_val, pred))"
   ]
  },
  {
   "cell_type": "code",
   "execution_count": 74,
   "id": "0087a46b",
   "metadata": {},
   "outputs": [
    {
     "data": {
      "text/plain": [
       "Text(0.5, 1.0, ' LG Confusion matrix')"
      ]
     },
     "execution_count": 74,
     "metadata": {},
     "output_type": "execute_result"
    },
    {
     "data": {
      "image/png": "[encoded data removed]",
      "text/plain": [
       "<Figure size 864x432 with 2 Axes>"
      ]
     },
     "metadata": {
      "needs_background": "light"
     },
     "output_type": "display_data"
    }
   ],
   "source": [
    "aux_df = tr_df[['gold_label', 'label_index']].drop_duplicates().sort_values('gold_label')\n",
    "conf_matrix = confusion_matrix(Y_val, pred)\n",
    "plt.figure(figsize=(12, 6))\n",
    "sns.heatmap(conf_matrix, \n",
    "            annot=True,\n",
    "            xticklabels=aux_df['gold_label'].values, \n",
    "            yticklabels=aux_df['gold_label'].values,\n",
    "            cmap=\"Blues\", \n",
    "            fmt=\"d\")\n",
    "plt.ylabel('Predicted')\n",
    "plt.xlabel('Actual')\n",
    "plt.title(' LG Confusion matrix')"
   ]
  },
  {
   "cell_type": "code",
   "execution_count": null,
   "id": "905684b8",
   "metadata": {},
   "outputs": [],
   "source": []
  }
 ],
 "metadata": {
  "kernelspec": {
   "display_name": "Python 3 (ipykernel)",
   "language": "python",
   "name": "python3"
  },
  "language_info": {
   "codemirror_mode": {
    "name": "ipython",
    "version": 3
   },
   "file_extension": ".py",
   "mimetype": "text/x-python",
   "name": "python",
   "nbconvert_exporter": "python",
   "pygments_lexer": "ipython3",
   "version": "3.7.4"
  }
 },
 "nbformat": 4,
 "nbformat_minor": 5
}
